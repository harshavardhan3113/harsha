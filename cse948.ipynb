{
 "cells": [
  {
   "cell_type": "code",
   "execution_count": 7,
   "metadata": {},
   "outputs": [
    {
     "name": "stdout",
     "output_type": "stream",
     "text": [
      "enter 1st number2\n",
      "enter 2st number2\n",
      "enter 3st number3\n",
      "c is greater\n"
     ]
    }
   ],
   "source": [
    "a,b,c=int(input(\"enter 1st number\")),int(input(\"enter 2st number\")),int(input(\"enter 3st number\"))\n",
    "if((a>b and a>c)):\n",
    "    print(\"a is greater\")\n",
    "elif ((b>c) and (b>a)):\n",
    "    print(\"b is greater\")\n",
    "elif ((c>a) and (c>b)):\n",
    "        print(\"c is greater\")\n",
    "        \n",
    "    "
   ]
  },
  {
   "cell_type": "code",
   "execution_count": 8,
   "metadata": {},
   "outputs": [
    {
     "name": "stdout",
     "output_type": "stream",
     "text": [
      "enter a no3\n",
      "number is odd\n"
     ]
    }
   ],
   "source": [
    "a=int(input(\"enter a no\"))\n",
    "if(a%2==0):\n",
    "    print(\"number is even\")\n",
    "else:\n",
    "     print(\"number is odd\")"
   ]
  },
  {
   "cell_type": "code",
   "execution_count": 11,
   "metadata": {},
   "outputs": [
    {
     "name": "stdout",
     "output_type": "stream",
     "text": [
      "enter a year2014\n",
      "leap year\n"
     ]
    }
   ],
   "source": [
    "y=int(input(\"enter a year\"))\n",
    "if((y%400)or (y%100!=0)and (y%4==0)):\n",
    "    print(\"leap year\")\n",
    "else:\n",
    "    print(\"not leap year\")"
   ]
  },
  {
   "cell_type": "code",
   "execution_count": 13,
   "metadata": {},
   "outputs": [
    {
     "name": "stdout",
     "output_type": "stream",
     "text": [
      "gitam\n"
     ]
    }
   ],
   "source": [
    "print(\"gitam\")"
   ]
  },
  {
   "cell_type": "code",
   "execution_count": 14,
   "metadata": {},
   "outputs": [
    {
     "name": "stdout",
     "output_type": "stream",
     "text": [
      "gitam\n",
      "gitam\n",
      "gitam\n",
      "gitam\n",
      "gitam\n"
     ]
    }
   ],
   "source": [
    "x = 0\n",
    "while x<5:\n",
    "    print(\"gitam\")\n",
    "    x=x+1"
   ]
  },
  {
   "cell_type": "code",
   "execution_count": 21,
   "metadata": {},
   "outputs": [
    {
     "name": "stdout",
     "output_type": "stream",
     "text": [
      "enter a no5\n",
      "1 2 3 4 5 "
     ]
    }
   ],
   "source": [
    "n=int(input(\"enter a no\"))\n",
    "x=1\n",
    "while x<=n: \n",
    "    print(x,end=\" \")\n",
    "    x=x+1\n",
    "  "
   ]
  },
  {
   "cell_type": "code",
   "execution_count": 24,
   "metadata": {},
   "outputs": [
    {
     "name": "stdout",
     "output_type": "stream",
     "text": [
      "enter a no123456\n",
      "6              5              4              3              2              1              "
     ]
    }
   ],
   "source": [
    "n=int(input(\"enter a no\"))\n",
    "while n!=0:\n",
    "    r=n%10\n",
    "    print(r,end=\"                           \")\n",
    "    n=n//10\n",
    "    "
   ]
  },
  {
   "cell_type": "markdown",
   "metadata": {},
   "source": [
    "### functional programing\n",
    "* simple\n",
    "* easy read\n",
    "\n"
   ]
  },
  {
   "cell_type": "code",
   "execution_count": 25,
   "metadata": {},
   "outputs": [
    {
     "data": {
      "text/plain": [
       "6"
      ]
     },
     "execution_count": 25,
     "metadata": {},
     "output_type": "execute_result"
    }
   ],
   "source": [
    "def addevendigits(n):\n",
    "    sum=0\n",
    "    while n!=0:\n",
    "        r=n%10\n",
    "        if r%2==0:\n",
    "            sum=sum+r\n",
    "        n=n//10\n",
    "    return sum\n",
    "addevendigits(1234)\n"
   ]
  },
  {
   "cell_type": "code",
   "execution_count": 33,
   "metadata": {},
   "outputs": [
    {
     "name": "stdout",
     "output_type": "stream",
     "text": [
      "no\n",
      "yes\n"
     ]
    }
   ],
   "source": [
    "def palindrome(n):\n",
    "    rev=0\n",
    "    buffer=n\n",
    "    while n!=0:\n",
    "        r=n%10\n",
    "        rev=rev*10+r\n",
    "        n=n//10\n",
    "    if buffer==rev:\n",
    "        return\"yes\"\n",
    "    else:\n",
    "        return \"no\"\n",
    "print(palindrome(123))\n",
    "print(palindrome(121))\n",
    "    "
   ]
  },
  {
   "cell_type": "code",
   "execution_count": 42,
   "metadata": {},
   "outputs": [
    {
     "name": "stdout",
     "output_type": "stream",
     "text": [
      "1 2 3 4 5 6 7 8 9 10 "
     ]
    }
   ],
   "source": [
    "def printnaturalnumber(n):\n",
    "    for x in range(1,n+1):\n",
    "        print(x,end=\" \")\n",
    "    return\n",
    "printnaturalnumber(10)\n",
    "        \n",
    "   "
   ]
  },
  {
   "cell_type": "code",
   "execution_count": 41,
   "metadata": {},
   "outputs": [
    {
     "name": "stdout",
     "output_type": "stream",
     "text": [
      "11 12 13 14 15 16 17 18 19 20 21 22 23 24 25 "
     ]
    }
   ],
   "source": [
    "def printseries(lb,ub):\n",
    "    for x in range (lb,ub+1):\n",
    "        print(x,end=\" \")\n",
    "    return\n",
    "printseries(11,25)    "
   ]
  },
  {
   "cell_type": "code",
   "execution_count": 43,
   "metadata": {},
   "outputs": [
    {
     "name": "stdout",
     "output_type": "stream",
     "text": [
      "100 104 108 112 116 120 124 128 132 136 140 144 148 "
     ]
    }
   ],
   "source": [
    "def alternatenumbers(lb,ub):\n",
    "    for x in range (lb,ub+1,4):\n",
    "        print(x,end=\" \")\n",
    "    return\n",
    "alternatenumbers(100,150)   "
   ]
  },
  {
   "cell_type": "code",
   "execution_count": 44,
   "metadata": {},
   "outputs": [
    {
     "name": "stdout",
     "output_type": "stream",
     "text": [
      "10 9 8 7 6 5 4 3 2 1 "
     ]
    }
   ],
   "source": [
    "def alternatenumbers(start,end):\n",
    "    for x in range (end,start-1,-1):\n",
    "        print(x,end=\" \")\n",
    "    return\n",
    "alternatenumbers(1,10)   \n"
   ]
  },
  {
   "cell_type": "code",
   "execution_count": null,
   "metadata": {},
   "outputs": [],
   "source": [
    "   "
   ]
  }
 ],
 "metadata": {
  "kernelspec": {
   "display_name": "Python 3",
   "language": "python",
   "name": "python3"
  },
  "language_info": {
   "codemirror_mode": {
    "name": "ipython",
    "version": 3
   },
   "file_extension": ".py",
   "mimetype": "text/x-python",
   "name": "python",
   "nbconvert_exporter": "python",
   "pygments_lexer": "ipython3",
   "version": "3.7.3"
  }
 },
 "nbformat": 4,
 "nbformat_minor": 2
}
