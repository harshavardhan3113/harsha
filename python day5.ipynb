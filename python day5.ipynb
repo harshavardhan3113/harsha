{
 "cells": [
  {
   "cell_type": "code",
   "execution_count": 1,
   "metadata": {},
   "outputs": [
    {
     "name": "stdout",
     "output_type": "stream",
     "text": [
      "enter a number2\n",
      "enter a number3\n",
      "5\n"
     ]
    }
   ],
   "source": [
    "a=(int(input(\"enter a number\")))\n",
    "b=(int(input(\"enter a number\")))\n",
    "c=a+b\n",
    "print(c)\n",
    "   \n",
    "   "
   ]
  },
  {
   "cell_type": "code",
   "execution_count": 3,
   "metadata": {},
   "outputs": [
    {
     "name": "stdout",
     "output_type": "stream",
     "text": [
      "enter the number6\n",
      "enter the number7\n",
      "42\n",
      "26\n"
     ]
    }
   ],
   "source": [
    "a=(int(input(\"enter the number\")))\n",
    "b=(int(input(\"enter the number\")))\n",
    "area=a*b\n",
    "print(area)\n",
    "perimeter=((2*a)+(2*b))\n",
    "print(perimeter)"
   ]
  },
  {
   "cell_type": "code",
   "execution_count": 5,
   "metadata": {},
   "outputs": [
    {
     "name": "stdout",
     "output_type": "stream",
     "text": [
      "enter the number4\n",
      "50.24\n",
      "25.12\n"
     ]
    }
   ],
   "source": [
    "r=(int(input(\"enter the number\")))\n",
    "area=3.14*r*r\n",
    "print(area)\n",
    "peri=2*3.14*r\n",
    "print(peri)"
   ]
  },
  {
   "cell_type": "code",
   "execution_count": 10,
   "metadata": {},
   "outputs": [
    {
     "name": "stdout",
     "output_type": "stream",
     "text": [
      "enter the age21\n",
      "eligible for voting\n"
     ]
    }
   ],
   "source": [
    "a=(int(input(\"enter the age\")))\n",
    "if (a>18):\n",
    "    print(\"eligible for voting\")\n",
    "else:\n",
    "    print(\"not eligible\")\n"
   ]
  },
  {
   "cell_type": "code",
   "execution_count": 12,
   "metadata": {},
   "outputs": [
    {
     "name": "stdout",
     "output_type": "stream",
     "text": [
      "enter mark189\n",
      "enter mark299\n",
      "enter mark395\n",
      "a grade\n"
     ]
    }
   ],
   "source": [
    "a,b,c=int(input(\"enter mark1\")),int(input(\"enter mark2\")),int(input(\"enter mark3\"))\n",
    "if((a>45) and (b>45) and (c>45)):\n",
    "    avg=(a+b+c)/3\n",
    "    if((avg>75) and (avg<100)):\n",
    "        print(\"a grade\")\n",
    "    if((avg<75) and (avg>60)):\n",
    "        print(\"b grade\")\n",
    "else:\n",
    "    print(\"failed\")"
   ]
  },
  {
   "cell_type": "code",
   "execution_count": null,
   "metadata": {},
   "outputs": [],
   "source": []
  }
 ],
 "metadata": {
  "kernelspec": {
   "display_name": "Python 3",
   "language": "python",
   "name": "python3"
  },
  "language_info": {
   "codemirror_mode": {
    "name": "ipython",
    "version": 3
   },
   "file_extension": ".py",
   "mimetype": "text/x-python",
   "name": "python",
   "nbconvert_exporter": "python",
   "pygments_lexer": "ipython3",
   "version": "3.7.3"
  }
 },
 "nbformat": 4,
 "nbformat_minor": 2
}
